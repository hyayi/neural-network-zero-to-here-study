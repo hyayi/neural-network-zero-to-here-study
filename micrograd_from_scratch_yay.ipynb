{
 "cells": [
  {
   "cell_type": "code",
   "execution_count": 1,
   "metadata": {},
   "outputs": [],
   "source": [
    "import math\n",
    "import numpy as np\n",
    "import matplotlib.pyplot as plt\n",
    "%matplotlib inline"
   ]
  },
  {
   "cell_type": "code",
   "execution_count": 3,
   "metadata": {},
   "outputs": [],
   "source": [
    "def f(x):\n",
    "    return 3*x**2 -4*x + 5\n"
   ]
  },
  {
   "cell_type": "code",
   "execution_count": 4,
   "metadata": {},
   "outputs": [
    {
     "data": {
      "text/plain": [
       "20.0"
      ]
     },
     "execution_count": 4,
     "metadata": {},
     "output_type": "execute_result"
    }
   ],
   "source": [
    "f(3.0)"
   ]
  },
  {
   "cell_type": "code",
   "execution_count": 5,
   "metadata": {},
   "outputs": [
    {
     "data": {
      "text/plain": [
       "[<matplotlib.lines.Line2D at 0x1599cc0fb20>]"
      ]
     },
     "execution_count": 5,
     "metadata": {},
     "output_type": "execute_result"
    },
    {
     "data": {
      "image/png": "[encoded data removed]",
      "text/plain": [
       "<Figure size 640x480 with 1 Axes>"
      ]
     },
     "metadata": {},
     "output_type": "display_data"
    }
   ],
   "source": [
    "xs = np.arange(-5,5,0.25)\n",
    "ys = f(xs)\n",
    "plt.plot(xs, ys)"
   ]
  },
  {
   "cell_type": "code",
   "execution_count": 6,
   "metadata": {},
   "outputs": [
    {
     "data": {
      "text/plain": [
       "0.0"
      ]
     },
     "execution_count": 6,
     "metadata": {},
     "output_type": "execute_result"
    }
   ],
   "source": [
    "# 간단한 미분의 구현 (미분의 정의를 이용)\n",
    "h = 0.00000000001\n",
    "x = 2/3\n",
    "(f(x + h) - f(x)) / h"
   ]
  },
  {
   "cell_type": "code",
   "execution_count": 7,
   "metadata": {},
   "outputs": [
    {
     "name": "stdout",
     "output_type": "stream",
     "text": [
      "4.0\n"
     ]
    }
   ],
   "source": [
    "a = 2.0\n",
    "b = -3.0\n",
    "c = 10.0\n",
    "d = a*b + c\n",
    "print(d)"
   ]
  },
  {
   "cell_type": "code",
   "execution_count": 8,
   "metadata": {},
   "outputs": [
    {
     "name": "stdout",
     "output_type": "stream",
     "text": [
      "d1 4.0\n",
      "d2 3.999699999999999\n",
      "slope -3.000000000010772\n"
     ]
    }
   ],
   "source": [
    "h = 0.0001\n",
    "\n",
    "a = 2.0\n",
    "b = -3.0\n",
    "c = 10.0\n",
    "\n",
    "## a의 변화량에 따른 값의 변화\n",
    "d1 = a*b +c\n",
    "a += h \n",
    "d2 = a*b +c\n",
    "\n",
    "print('d1', d1)\n",
    "print('d2', d2)\n",
    "print('slope', (d2-d1)/h)"
   ]
  },
  {
   "cell_type": "code",
   "execution_count": 9,
   "metadata": {},
   "outputs": [],
   "source": [
    "## repr는  Representation의 약자로 \n",
    "## _children 연산과정을 기억하기 위해 사용\n",
    "class Value:\n",
    "    def __init__(self, data, _children=(), _op='', label=''):\n",
    "        self.data = data\n",
    "        self.grad = 0.0\n",
    "        self._backward = lambda: None\n",
    "        self._prev = set(_children)\n",
    "        self._op = _op\n",
    "        self.label = label\n",
    "    def __repr__(self):\n",
    "        return f\"Value(data={self.data})\"\n",
    "    \n",
    "    def __radd__(self, other):\n",
    "        return self + other\n",
    "    \n",
    "    def __add__(self, other):\n",
    "        other = other if isinstance(other, Value) else Value(other)\n",
    "        out = Value(self.data + other.data, (self, other),'+')\n",
    "        \n",
    "        def _backward():\n",
    "            self.grad += 1.0 *  out.grad\n",
    "            other.grad += 1.0 * out.grad\n",
    "        out._backward = _backward\n",
    "            \n",
    "        return out \n",
    "    \n",
    "    def __mul__(self, other):\n",
    "        other = other if isinstance(other, Value) else Value(other)\n",
    "        out = Value(self.data * other.data, (self, other),'*')\n",
    "        \n",
    "        def _backward():\n",
    "            self.grad += other.data *  out.grad\n",
    "            other.grad += self.data * out.grad\n",
    "            \n",
    "        out._backward = _backward\n",
    "        return out\n",
    "    \n",
    "    def __rmul__(self, other):\n",
    "        return self * other\n",
    "\n",
    "    def __truediv__(self, other):\n",
    "        return self*other**-1\n",
    "    \n",
    "    def __pow__(self, other):\n",
    "        assert isinstance(other,(int,float)),\"only support int or float\"\n",
    "        out = Value(self.data**other, (self, ),f'**{other}')\n",
    "        \n",
    "        def _backward():\n",
    "            self.grad += other * self.data**(other-1) * out.grad\n",
    "        out._backward = _backward\n",
    "        \n",
    "        return out \n",
    "    \n",
    "    def __neg__(self):\n",
    "        return self * -1\n",
    "    \n",
    "    def __sub__(self, other):\n",
    "        return self + (-other)\n",
    "    \n",
    "    def exp(self):\n",
    "        x = self.data\n",
    "        out = Value(math.exp(x), (self, ),'exp')\n",
    "        \n",
    "        def _backward():\n",
    "            self.grad += out.data * out.grad\n",
    "        out._backward = _backward\n",
    "        return out \n",
    "    \n",
    "    def tanh(self):\n",
    "        x = self.data\n",
    "        t = (math.exp(2*x) -1)/(math.exp(2*x) +1)\n",
    "        out = Value(t, (self, ),'tanh')\n",
    "        \n",
    "        def _backward():\n",
    "            self.grad += (1 - t**2) * out.grad\n",
    "        out._backward = _backward\n",
    "        \n",
    "        return out \n",
    "    \n",
    "    def backward(self):\n",
    "        \n",
    "        topo = []\n",
    "        visited = set()\n",
    "        def build_topo(v):\n",
    "            if v not in visited:\n",
    "                visited.add(v)\n",
    "                for child in v._prev:\n",
    "                    build_topo(child)\n",
    "                topo.append(v)\n",
    "        build_topo(self)\n",
    "        \n",
    "        self.grad = 1.0\n",
    "        for node in reversed(topo):\n",
    "            node._backward()\n"
   ]
  },
  {
   "cell_type": "code",
   "execution_count": 10,
   "metadata": {},
   "outputs": [],
   "source": [
    "from graphviz import Digraph\n",
    "\n",
    "def trance(root):\n",
    "    nodes, edges = set(), list()\n",
    "    def build(v):\n",
    "        if v not in nodes:\n",
    "            nodes.add(v)\n",
    "            for child in v._prev:\n",
    "                edges.append((child, v))\n",
    "                build(child)\n",
    "    build(root)\n",
    "    return nodes, edges\n",
    "\n",
    "def draw_dot(root):\n",
    "    dot = Digraph(format='svg', graph_attr={'rankdir':'LR'}) ##왼쪽에서 오른쪽으로\n",
    "    \n",
    "    nodes, edges = trance(root)\n",
    "    for n in nodes:\n",
    "        uid = str(id(n))\n",
    "        dot.node(uid, label=\"%s | data %.4f | grad %.4f\" % (n.label,n.data,n.grad), shape ='recod')\n",
    "        if n._op:\n",
    "            dot.node(name=uid + n._op, label=n._op)\n",
    "            dot.edge(uid + n._op, uid)\n",
    "    \n",
    "    for n1, n2 in edges:\n",
    "        dot.edge(str(id(n1)), str(id(n2))+n2._op)\n",
    "    \n",
    "    return dot"
   ]
  },
  {
   "cell_type": "code",
   "execution_count": 11,
   "metadata": {},
   "outputs": [],
   "source": [
    "# input x1, x2\n",
    "x1 = Value(2.0, label='x1')\n",
    "x2 = Value(0.0, label='x2')\n",
    "\n",
    "# weight w1, w2\n",
    "w1 = Value(-3.0, label='w1')\n",
    "w2 = Value(1.0, label='w2')\n",
    "\n",
    "# bias of the neuron\n",
    "b = Value(6.881373587019432, label='b')\n",
    "\n",
    "# x1*w1 + x2*w2 + b\n",
    "x1w1 = x1 * w1; x1w1.label = 'x1w1'\n",
    "x2w2 = x2 * w2; x2w2.label = 'x2w2'\n",
    "x1w1x2w2 = x1w1 + x2w2; x1w1x2w2.label = 'x1w1x2w2'\n",
    "n = x1w1x2w2 + b; n.label = 'n'\n",
    "o = n.tanh(); o.label = 'o'\n",
    "o.backward()"
   ]
  },
  {
   "cell_type": "code",
   "execution_count": 12,
   "metadata": {},
   "outputs": [
    {
     "name": "stderr",
     "output_type": "stream",
     "text": [
      "Warning: using box for unknown shape recod\n"
     ]
    },
    {
     "data": {
      "image/svg+xml": "<?xml version=\"1.0\" encoding=\"UTF-8\" standalone=\"no\"?>\n<!DOCTYPE svg PUBLIC \"-//W3C//DTD SVG 1.1//EN\"\n \"http://www.w3.org/Graphics/SVG/1.1/DTD/svg11.dtd\">\n<!-- Generated by graphviz version 7.1.0 (20230121.1956)\n -->\n<!-- Pages: 1 -->\n<svg width=\"1479pt\" height=\"206pt\"\n viewBox=\"0.00 0.00 1479.00 206.00\" xmlns=\"http://www.w3.org/2000/svg\" xmlns:xlink=\"http://www.w3.org/1999/xlink\">\n<g id=\"graph0\" class=\"graph\" transform=\"scale(1 1) rotate(0) translate(4 202)\">\n<polygon fill=\"white\" stroke=\"none\" points=\"-4,4 -4,-202 1475,-202 1475,4 -4,4\"/>\n<!-- 1484402209840 -->\n<g id=\"node1\" class=\"node\">\n<title>1484402209840</title>\n<polygon fill=\"none\" stroke=\"black\" points=\"1471,-144 1297,-144 1297,-108 1471,-108 1471,-144\"/>\n<text text-anchor=\"middle\" x=\"1384\" y=\"-122.3\" font-family=\"Times New Roman,serif\" font-size=\"14.00\">o | data 0.7071 | grad 1.0000</text>\n</g>\n<!-- 1484402209840tanh -->\n<g id=\"node2\" class=\"node\">\n<title>1484402209840tanh</title>\n<ellipse fill=\"none\" stroke=\"black\" cx=\"1234\" cy=\"-126\" rx=\"27\" ry=\"18\"/>\n<text text-anchor=\"middle\" x=\"1234\" y=\"-122.3\" font-family=\"Times New Roman,serif\" font-size=\"14.00\">tanh</text>\n</g>\n<!-- 1484402209840tanh&#45;&gt;1484402209840 -->\n<g id=\"edge1\" class=\"edge\">\n<title>1484402209840tanh&#45;&gt;1484402209840</title>\n<path fill=\"none\" stroke=\"black\" d=\"M1261.46,-126C1268.51,-126 1276.56,-126 1285.09,-126\"/>\n<polygon fill=\"black\" stroke=\"black\" points=\"1285.02,-129.5 1295.02,-126 1285.02,-122.5 1285.02,-129.5\"/>\n</g>\n<!-- 1484402212432 -->\n<g id=\"node3\" class=\"node\">\n<title>1484402212432</title>\n<polygon fill=\"none\" stroke=\"black\" points=\"185.5,-90 2.5,-90 2.5,-54 185.5,-54 185.5,-90\"/>\n<text text-anchor=\"middle\" x=\"94\" y=\"-68.3\" font-family=\"Times New Roman,serif\" font-size=\"14.00\">w2 | data 1.0000 | grad 0.0000</text>\n</g>\n<!-- 1484402210128* -->\n<g id=\"node14\" class=\"node\">\n<title>1484402210128*</title>\n<ellipse fill=\"none\" stroke=\"black\" cx=\"251\" cy=\"-72\" rx=\"27\" ry=\"18\"/>\n<text text-anchor=\"middle\" x=\"251\" y=\"-68.3\" font-family=\"Times New Roman,serif\" font-size=\"14.00\">*</text>\n</g>\n<!-- 1484402212432&#45;&gt;1484402210128* -->\n<g id=\"edge12\" class=\"edge\">\n<title>1484402212432&#45;&gt;1484402210128*</title>\n<path fill=\"none\" stroke=\"black\" d=\"M185.61,-72C194.96,-72 204.05,-72 212.3,-72\"/>\n<polygon fill=\"black\" stroke=\"black\" points=\"212.23,-75.5 222.23,-72 212.23,-68.5 212.23,-75.5\"/>\n</g>\n<!-- 1484402211424 -->\n<g id=\"node4\" class=\"node\">\n<title>1484402211424</title>\n<polygon fill=\"none\" stroke=\"black\" points=\"1171,-144 998,-144 998,-108 1171,-108 1171,-144\"/>\n<text text-anchor=\"middle\" x=\"1084.5\" y=\"-122.3\" font-family=\"Times New Roman,serif\" font-size=\"14.00\">n | data 0.8814 | grad 0.5000</text>\n</g>\n<!-- 1484402211424&#45;&gt;1484402209840tanh -->\n<g id=\"edge6\" class=\"edge\">\n<title>1484402211424&#45;&gt;1484402209840tanh</title>\n<path fill=\"none\" stroke=\"black\" d=\"M1171.3,-126C1179.6,-126 1187.69,-126 1195.14,-126\"/>\n<polygon fill=\"black\" stroke=\"black\" points=\"1195.1,-129.5 1205.1,-126 1195.1,-122.5 1195.1,-129.5\"/>\n</g>\n<!-- 1484402211424+ -->\n<g id=\"node5\" class=\"node\">\n<title>1484402211424+</title>\n<ellipse fill=\"none\" stroke=\"black\" cx=\"935\" cy=\"-126\" rx=\"27\" ry=\"18\"/>\n<text text-anchor=\"middle\" x=\"935\" y=\"-122.3\" font-family=\"Times New Roman,serif\" font-size=\"14.00\">+</text>\n</g>\n<!-- 1484402211424+&#45;&gt;1484402211424 -->\n<g id=\"edge2\" class=\"edge\">\n<title>1484402211424+&#45;&gt;1484402211424</title>\n<path fill=\"none\" stroke=\"black\" d=\"M962.37,-126C969.46,-126 977.56,-126 986.13,-126\"/>\n<polygon fill=\"black\" stroke=\"black\" points=\"986.12,-129.5 996.12,-126 986.12,-122.5 986.12,-129.5\"/>\n</g>\n<!-- 1484402207968 -->\n<g id=\"node6\" class=\"node\">\n<title>1484402207968</title>\n<polygon fill=\"none\" stroke=\"black\" points=\"843.5,-171 669.5,-171 669.5,-135 843.5,-135 843.5,-171\"/>\n<text text-anchor=\"middle\" x=\"756.5\" y=\"-149.3\" font-family=\"Times New Roman,serif\" font-size=\"14.00\">b | data 6.8814 | grad 0.5000</text>\n</g>\n<!-- 1484402207968&#45;&gt;1484402211424+ -->\n<g id=\"edge14\" class=\"edge\">\n<title>1484402207968&#45;&gt;1484402211424+</title>\n<path fill=\"none\" stroke=\"black\" d=\"M843.94,-139.78C862.73,-136.9 881.63,-134.01 897.24,-131.62\"/>\n<polygon fill=\"black\" stroke=\"black\" points=\"897.61,-135.11 906.97,-130.13 896.56,-128.19 897.61,-135.11\"/>\n</g>\n<!-- 1484402205424 -->\n<g id=\"node7\" class=\"node\">\n<title>1484402205424</title>\n<polygon fill=\"none\" stroke=\"black\" points=\"184,-36 4,-36 4,0 184,0 184,-36\"/>\n<text text-anchor=\"middle\" x=\"94\" y=\"-14.3\" font-family=\"Times New Roman,serif\" font-size=\"14.00\">x2 | data 0.0000 | grad 0.5000</text>\n</g>\n<!-- 1484402205424&#45;&gt;1484402210128* -->\n<g id=\"edge13\" class=\"edge\">\n<title>1484402205424&#45;&gt;1484402210128*</title>\n<path fill=\"none\" stroke=\"black\" d=\"M162.38,-36.45C171.06,-39.15 179.78,-42.03 188,-45 197.87,-48.56 208.4,-52.93 217.93,-57.1\"/>\n<polygon fill=\"black\" stroke=\"black\" points=\"216.24,-60.18 226.8,-61.06 219.1,-53.79 216.24,-60.18\"/>\n</g>\n<!-- 1484402212096 -->\n<g id=\"node8\" class=\"node\">\n<title>1484402212096</title>\n<polygon fill=\"none\" stroke=\"black\" points=\"186.5,-198 1.5,-198 1.5,-162 186.5,-162 186.5,-198\"/>\n<text text-anchor=\"middle\" x=\"94\" y=\"-176.3\" font-family=\"Times New Roman,serif\" font-size=\"14.00\">x1 | data 2.0000 | grad &#45;1.5000</text>\n</g>\n<!-- 1484402210608* -->\n<g id=\"node10\" class=\"node\">\n<title>1484402210608*</title>\n<ellipse fill=\"none\" stroke=\"black\" cx=\"251\" cy=\"-126\" rx=\"27\" ry=\"18\"/>\n<text text-anchor=\"middle\" x=\"251\" y=\"-122.3\" font-family=\"Times New Roman,serif\" font-size=\"14.00\">*</text>\n</g>\n<!-- 1484402212096&#45;&gt;1484402210608* -->\n<g id=\"edge9\" class=\"edge\">\n<title>1484402212096&#45;&gt;1484402210608*</title>\n<path fill=\"none\" stroke=\"black\" d=\"M162.38,-161.55C171.06,-158.85 179.78,-155.97 188,-153 197.87,-149.44 208.4,-145.07 217.93,-140.9\"/>\n<polygon fill=\"black\" stroke=\"black\" points=\"219.1,-144.21 226.8,-136.94 216.24,-137.82 219.1,-144.21\"/>\n</g>\n<!-- 1484402210608 -->\n<g id=\"node9\" class=\"node\">\n<title>1484402210608</title>\n<polygon fill=\"none\" stroke=\"black\" points=\"515,-144 314,-144 314,-108 515,-108 515,-144\"/>\n<text text-anchor=\"middle\" x=\"414.5\" y=\"-122.3\" font-family=\"Times New Roman,serif\" font-size=\"14.00\">x1w1 | data &#45;6.0000 | grad 0.5000</text>\n</g>\n<!-- 1484402208064+ -->\n<g id=\"node12\" class=\"node\">\n<title>1484402208064+</title>\n<ellipse fill=\"none\" stroke=\"black\" cx=\"578\" cy=\"-99\" rx=\"27\" ry=\"18\"/>\n<text text-anchor=\"middle\" x=\"578\" y=\"-95.3\" font-family=\"Times New Roman,serif\" font-size=\"14.00\">+</text>\n</g>\n<!-- 1484402210608&#45;&gt;1484402208064+ -->\n<g id=\"edge8\" class=\"edge\">\n<title>1484402210608&#45;&gt;1484402208064+</title>\n<path fill=\"none\" stroke=\"black\" d=\"M515.48,-109.28C524.12,-107.84 532.45,-106.45 540.04,-105.18\"/>\n<polygon fill=\"black\" stroke=\"black\" points=\"540.51,-108.65 549.8,-103.55 539.36,-101.74 540.51,-108.65\"/>\n</g>\n<!-- 1484402210608*&#45;&gt;1484402210608 -->\n<g id=\"edge3\" class=\"edge\">\n<title>1484402210608*&#45;&gt;1484402210608</title>\n<path fill=\"none\" stroke=\"black\" d=\"M278.31,-126C285.41,-126 293.56,-126 302.27,-126\"/>\n<polygon fill=\"black\" stroke=\"black\" points=\"302.04,-129.5 312.04,-126 302.04,-122.5 302.04,-129.5\"/>\n</g>\n<!-- 1484402208064 -->\n<g id=\"node11\" class=\"node\">\n<title>1484402208064</title>\n<polygon fill=\"none\" stroke=\"black\" points=\"872,-117 641,-117 641,-81 872,-81 872,-117\"/>\n<text text-anchor=\"middle\" x=\"756.5\" y=\"-95.3\" font-family=\"Times New Roman,serif\" font-size=\"14.00\">x1w1x2w2 | data &#45;6.0000 | grad 0.5000</text>\n</g>\n<!-- 1484402208064&#45;&gt;1484402211424+ -->\n<g id=\"edge7\" class=\"edge\">\n<title>1484402208064&#45;&gt;1484402211424+</title>\n<path fill=\"none\" stroke=\"black\" d=\"M872.27,-116.56C881,-117.89 889.34,-119.17 896.92,-120.33\"/>\n<polygon fill=\"black\" stroke=\"black\" points=\"896.23,-123.76 906.64,-121.82 897.29,-116.84 896.23,-123.76\"/>\n</g>\n<!-- 1484402208064+&#45;&gt;1484402208064 -->\n<g id=\"edge4\" class=\"edge\">\n<title>1484402208064+&#45;&gt;1484402208064</title>\n<path fill=\"none\" stroke=\"black\" d=\"M605.42,-99C612.46,-99 620.54,-99 629.23,-99\"/>\n<polygon fill=\"black\" stroke=\"black\" points=\"629.02,-102.5 639.02,-99 629.02,-95.5 629.02,-102.5\"/>\n</g>\n<!-- 1484402210128 -->\n<g id=\"node13\" class=\"node\">\n<title>1484402210128</title>\n<polygon fill=\"none\" stroke=\"black\" points=\"513,-90 316,-90 316,-54 513,-54 513,-90\"/>\n<text text-anchor=\"middle\" x=\"414.5\" y=\"-68.3\" font-family=\"Times New Roman,serif\" font-size=\"14.00\">x2w2 | data 0.0000 | grad 0.5000</text>\n</g>\n<!-- 1484402210128&#45;&gt;1484402208064+ -->\n<g id=\"edge11\" class=\"edge\">\n<title>1484402210128&#45;&gt;1484402208064+</title>\n<path fill=\"none\" stroke=\"black\" d=\"M513.17,-88.33C522.74,-89.93 531.98,-91.47 540.32,-92.87\"/>\n<polygon fill=\"black\" stroke=\"black\" points=\"539.51,-96.28 549.95,-94.48 540.66,-89.38 539.51,-96.28\"/>\n</g>\n<!-- 1484402210128*&#45;&gt;1484402210128 -->\n<g id=\"edge5\" class=\"edge\">\n<title>1484402210128*&#45;&gt;1484402210128</title>\n<path fill=\"none\" stroke=\"black\" d=\"M278.31,-72C285.95,-72 294.82,-72 304.28,-72\"/>\n<polygon fill=\"black\" stroke=\"black\" points=\"304.11,-75.5 314.11,-72 304.11,-68.5 304.11,-75.5\"/>\n</g>\n<!-- 1484402209696 -->\n<g id=\"node15\" class=\"node\">\n<title>1484402209696</title>\n<polygon fill=\"none\" stroke=\"black\" points=\"188,-144 0,-144 0,-108 188,-108 188,-144\"/>\n<text text-anchor=\"middle\" x=\"94\" y=\"-122.3\" font-family=\"Times New Roman,serif\" font-size=\"14.00\">w1 | data &#45;3.0000 | grad 1.0000</text>\n</g>\n<!-- 1484402209696&#45;&gt;1484402210608* -->\n<g id=\"edge10\" class=\"edge\">\n<title>1484402209696&#45;&gt;1484402210608*</title>\n<path fill=\"none\" stroke=\"black\" d=\"M188.29,-126C196.69,-126 204.83,-126 212.3,-126\"/>\n<polygon fill=\"black\" stroke=\"black\" points=\"212.26,-129.5 222.26,-126 212.26,-122.5 212.26,-129.5\"/>\n</g>\n</g>\n</svg>\n",
      "text/plain": [
       "<graphviz.graphs.Digraph at 0x1599d443bb0>"
      ]
     },
     "execution_count": 12,
     "metadata": {},
     "output_type": "execute_result"
    }
   ],
   "source": [
    "draw_dot(o)"
   ]
  },
  {
   "cell_type": "code",
   "execution_count": 13,
   "metadata": {},
   "outputs": [
    {
     "name": "stderr",
     "output_type": "stream",
     "text": [
      "Warning: using box for unknown shape recod\n"
     ]
    },
    {
     "data": {
      "image/svg+xml": "<?xml version=\"1.0\" encoding=\"UTF-8\" standalone=\"no\"?>\n<!DOCTYPE svg PUBLIC \"-//W3C//DTD SVG 1.1//EN\"\n \"http://www.w3.org/Graphics/SVG/1.1/DTD/svg11.dtd\">\n<!-- Generated by graphviz version 7.1.0 (20230121.1956)\n -->\n<!-- Pages: 1 -->\n<svg width=\"2772pt\" height=\"233pt\"\n viewBox=\"0.00 0.00 2772.00 233.00\" xmlns=\"http://www.w3.org/2000/svg\" xmlns:xlink=\"http://www.w3.org/1999/xlink\">\n<g id=\"graph0\" class=\"graph\" transform=\"scale(1 1) rotate(0) translate(4 229)\">\n<polygon fill=\"white\" stroke=\"none\" points=\"-4,4 -4,-229 2768,-229 2768,4 -4,4\"/>\n<!-- 1484393035280 -->\n<g id=\"node1\" class=\"node\">\n<title>1484393035280</title>\n<polygon fill=\"none\" stroke=\"black\" points=\"2261,-198 2094,-198 2094,-162 2261,-162 2261,-198\"/>\n<text text-anchor=\"middle\" x=\"2177.5\" y=\"-176.3\" font-family=\"Times New Roman,serif\" font-size=\"14.00\"> | data 4.8284 | grad 0.1464</text>\n</g>\n<!-- 1484402421344* -->\n<g id=\"node5\" class=\"node\">\n<title>1484402421344*</title>\n<ellipse fill=\"none\" stroke=\"black\" cx=\"2527\" cy=\"-153\" rx=\"27\" ry=\"18\"/>\n<text text-anchor=\"middle\" x=\"2527\" y=\"-149.3\" font-family=\"Times New Roman,serif\" font-size=\"14.00\">*</text>\n</g>\n<!-- 1484393035280&#45;&gt;1484402421344* -->\n<g id=\"edge11\" class=\"edge\">\n<title>1484393035280&#45;&gt;1484402421344*</title>\n<path fill=\"none\" stroke=\"black\" d=\"M2261.29,-173.57C2333.33,-167.97 2434.43,-160.11 2488.46,-155.92\"/>\n<polygon fill=\"black\" stroke=\"black\" points=\"2488.67,-159.41 2498.37,-155.15 2488.13,-152.43 2488.67,-159.41\"/>\n</g>\n<!-- 1484393035280+ -->\n<g id=\"node2\" class=\"node\">\n<title>1484393035280+</title>\n<ellipse fill=\"none\" stroke=\"black\" cx=\"1824\" cy=\"-180\" rx=\"27\" ry=\"18\"/>\n<text text-anchor=\"middle\" x=\"1824\" y=\"-176.3\" font-family=\"Times New Roman,serif\" font-size=\"14.00\">+</text>\n</g>\n<!-- 1484393035280+&#45;&gt;1484393035280 -->\n<g id=\"edge1\" class=\"edge\">\n<title>1484393035280+&#45;&gt;1484393035280</title>\n<path fill=\"none\" stroke=\"black\" d=\"M1851.42,-180C1899.81,-180 2004.83,-180 2082.47,-180\"/>\n<polygon fill=\"black\" stroke=\"black\" points=\"2082.21,-183.5 2092.21,-180 2082.21,-176.5 2082.21,-183.5\"/>\n</g>\n<!-- 1484402472464 -->\n<g id=\"node3\" class=\"node\">\n<title>1484402472464</title>\n<polygon fill=\"none\" stroke=\"black\" points=\"1168,-198 1001,-198 1001,-162 1168,-162 1168,-198\"/>\n<text text-anchor=\"middle\" x=\"1084.5\" y=\"-176.3\" font-family=\"Times New Roman,serif\" font-size=\"14.00\"> | data 2.0000 | grad 0.2203</text>\n</g>\n<!-- 1484402462864* -->\n<g id=\"node11\" class=\"node\">\n<title>1484402462864*</title>\n<ellipse fill=\"none\" stroke=\"black\" cx=\"1234\" cy=\"-153\" rx=\"27\" ry=\"18\"/>\n<text text-anchor=\"middle\" x=\"1234\" y=\"-149.3\" font-family=\"Times New Roman,serif\" font-size=\"14.00\">*</text>\n</g>\n<!-- 1484402472464&#45;&gt;1484402462864* -->\n<g id=\"edge15\" class=\"edge\">\n<title>1484402472464&#45;&gt;1484402462864*</title>\n<path fill=\"none\" stroke=\"black\" d=\"M1168.3,-164.84C1178.15,-163.04 1187.77,-161.28 1196.46,-159.69\"/>\n<polygon fill=\"black\" stroke=\"black\" points=\"1196.97,-163.15 1206.17,-157.91 1195.71,-156.27 1196.97,-163.15\"/>\n</g>\n<!-- 1484402421344 -->\n<g id=\"node4\" class=\"node\">\n<title>1484402421344</title>\n<polygon fill=\"none\" stroke=\"black\" points=\"2764,-171 2590,-171 2590,-135 2764,-135 2764,-171\"/>\n<text text-anchor=\"middle\" x=\"2677\" y=\"-149.3\" font-family=\"Times New Roman,serif\" font-size=\"14.00\">o | data 0.7071 | grad 1.0000</text>\n</g>\n<!-- 1484402421344*&#45;&gt;1484402421344 -->\n<g id=\"edge2\" class=\"edge\">\n<title>1484402421344*&#45;&gt;1484402421344</title>\n<path fill=\"none\" stroke=\"black\" d=\"M2554.46,-153C2561.51,-153 2569.56,-153 2578.09,-153\"/>\n<polygon fill=\"black\" stroke=\"black\" points=\"2578.02,-156.5 2588.02,-153 2578.02,-149.5 2578.02,-156.5\"/>\n</g>\n<!-- 1484402470496 -->\n<g id=\"node6\" class=\"node\">\n<title>1484402470496</title>\n<polygon fill=\"none\" stroke=\"black\" points=\"843.5,-171 669.5,-171 669.5,-135 843.5,-135 843.5,-171\"/>\n<text text-anchor=\"middle\" x=\"756.5\" y=\"-149.3\" font-family=\"Times New Roman,serif\" font-size=\"14.00\">b | data 6.8814 | grad 0.5000</text>\n</g>\n<!-- 1484402463056+ -->\n<g id=\"node21\" class=\"node\">\n<title>1484402463056+</title>\n<ellipse fill=\"none\" stroke=\"black\" cx=\"935\" cy=\"-126\" rx=\"27\" ry=\"18\"/>\n<text text-anchor=\"middle\" x=\"935\" y=\"-122.3\" font-family=\"Times New Roman,serif\" font-size=\"14.00\">+</text>\n</g>\n<!-- 1484402470496&#45;&gt;1484402463056+ -->\n<g id=\"edge24\" class=\"edge\">\n<title>1484402470496&#45;&gt;1484402463056+</title>\n<path fill=\"none\" stroke=\"black\" d=\"M843.94,-139.78C862.73,-136.9 881.63,-134.01 897.24,-131.62\"/>\n<polygon fill=\"black\" stroke=\"black\" points=\"897.61,-135.11 906.97,-130.13 896.56,-128.19 897.61,-135.11\"/>\n</g>\n<!-- 1484393034368 -->\n<g id=\"node7\" class=\"node\">\n<title>1484393034368</title>\n<polygon fill=\"none\" stroke=\"black\" points=\"2058,-144 1887,-144 1887,-108 2058,-108 2058,-144\"/>\n<text text-anchor=\"middle\" x=\"1972.5\" y=\"-122.3\" font-family=\"Times New Roman,serif\" font-size=\"14.00\"> | data 6.8284 | grad &#45;0.1036</text>\n</g>\n<!-- 1484402423744**&#45;1 -->\n<g id=\"node28\" class=\"node\">\n<title>1484402423744**&#45;1</title>\n<ellipse fill=\"none\" stroke=\"black\" cx=\"2177.5\" cy=\"-126\" rx=\"27\" ry=\"18\"/>\n<text text-anchor=\"middle\" x=\"2177.5\" y=\"-122.3\" font-family=\"Times New Roman,serif\" font-size=\"14.00\">**&#45;1</text>\n</g>\n<!-- 1484393034368&#45;&gt;1484402423744**&#45;1 -->\n<g id=\"edge26\" class=\"edge\">\n<title>1484393034368&#45;&gt;1484402423744**&#45;1</title>\n<path fill=\"none\" stroke=\"black\" d=\"M2058.41,-126C2086.41,-126 2116.14,-126 2138.76,-126\"/>\n<polygon fill=\"black\" stroke=\"black\" points=\"2138.71,-129.5 2148.71,-126 2138.71,-122.5 2138.71,-129.5\"/>\n</g>\n<!-- 1484393034368+ -->\n<g id=\"node8\" class=\"node\">\n<title>1484393034368+</title>\n<ellipse fill=\"none\" stroke=\"black\" cx=\"1824\" cy=\"-126\" rx=\"27\" ry=\"18\"/>\n<text text-anchor=\"middle\" x=\"1824\" y=\"-122.3\" font-family=\"Times New Roman,serif\" font-size=\"14.00\">+</text>\n</g>\n<!-- 1484393034368+&#45;&gt;1484393034368 -->\n<g id=\"edge3\" class=\"edge\">\n<title>1484393034368+&#45;&gt;1484393034368</title>\n<path fill=\"none\" stroke=\"black\" d=\"M1851.19,-126C1858.37,-126 1866.59,-126 1875.29,-126\"/>\n<polygon fill=\"black\" stroke=\"black\" points=\"1875.01,-129.5 1885.01,-126 1875.01,-122.5 1875.01,-129.5\"/>\n</g>\n<!-- 1484402473616 -->\n<g id=\"node9\" class=\"node\">\n<title>1484402473616</title>\n<polygon fill=\"none\" stroke=\"black\" points=\"1761,-225 1590,-225 1590,-189 1761,-189 1761,-225\"/>\n<text text-anchor=\"middle\" x=\"1675.5\" y=\"-203.3\" font-family=\"Times New Roman,serif\" font-size=\"14.00\"> | data &#45;1.0000 | grad 0.1464</text>\n</g>\n<!-- 1484402473616&#45;&gt;1484393035280+ -->\n<g id=\"edge12\" class=\"edge\">\n<title>1484402473616&#45;&gt;1484393035280+</title>\n<path fill=\"none\" stroke=\"black\" d=\"M1761.3,-191.37C1770.04,-189.76 1778.55,-188.19 1786.33,-186.76\"/>\n<polygon fill=\"black\" stroke=\"black\" points=\"1786.8,-190.23 1796,-184.98 1785.53,-183.35 1786.8,-190.23\"/>\n</g>\n<!-- 1484402462864 -->\n<g id=\"node10\" class=\"node\">\n<title>1484402462864</title>\n<polygon fill=\"none\" stroke=\"black\" points=\"1464,-171 1297,-171 1297,-135 1464,-135 1464,-171\"/>\n<text text-anchor=\"middle\" x=\"1380.5\" y=\"-149.3\" font-family=\"Times New Roman,serif\" font-size=\"14.00\"> | data 1.7627 | grad 0.2500</text>\n</g>\n<!-- 1484402467184exp -->\n<g id=\"node25\" class=\"node\">\n<title>1484402467184exp</title>\n<ellipse fill=\"none\" stroke=\"black\" cx=\"1527\" cy=\"-153\" rx=\"27\" ry=\"18\"/>\n<text text-anchor=\"middle\" x=\"1527\" y=\"-149.3\" font-family=\"Times New Roman,serif\" font-size=\"14.00\">exp</text>\n</g>\n<!-- 1484402462864&#45;&gt;1484402467184exp -->\n<g id=\"edge14\" class=\"edge\">\n<title>1484402462864&#45;&gt;1484402467184exp</title>\n<path fill=\"none\" stroke=\"black\" d=\"M1464.3,-153C1472.56,-153 1480.63,-153 1488.07,-153\"/>\n<polygon fill=\"black\" stroke=\"black\" points=\"1488.03,-156.5 1498.03,-153 1488.03,-149.5 1488.03,-156.5\"/>\n</g>\n<!-- 1484402462864*&#45;&gt;1484402462864 -->\n<g id=\"edge4\" class=\"edge\">\n<title>1484402462864*&#45;&gt;1484402462864</title>\n<path fill=\"none\" stroke=\"black\" d=\"M1261.17,-153C1268.37,-153 1276.63,-153 1285.35,-153\"/>\n<polygon fill=\"black\" stroke=\"black\" points=\"1285.1,-156.5 1295.1,-153 1285.1,-149.5 1285.1,-156.5\"/>\n</g>\n<!-- 1484402472608 -->\n<g id=\"node12\" class=\"node\">\n<title>1484402472608</title>\n<polygon fill=\"none\" stroke=\"black\" points=\"515,-144 314,-144 314,-108 515,-108 515,-144\"/>\n<text text-anchor=\"middle\" x=\"414.5\" y=\"-122.3\" font-family=\"Times New Roman,serif\" font-size=\"14.00\">x1w1 | data &#45;6.0000 | grad 0.5000</text>\n</g>\n<!-- 1484402465072+ -->\n<g id=\"node19\" class=\"node\">\n<title>1484402465072+</title>\n<ellipse fill=\"none\" stroke=\"black\" cx=\"578\" cy=\"-99\" rx=\"27\" ry=\"18\"/>\n<text text-anchor=\"middle\" x=\"578\" y=\"-95.3\" font-family=\"Times New Roman,serif\" font-size=\"14.00\">+</text>\n</g>\n<!-- 1484402472608&#45;&gt;1484402465072+ -->\n<g id=\"edge18\" class=\"edge\">\n<title>1484402472608&#45;&gt;1484402465072+</title>\n<path fill=\"none\" stroke=\"black\" d=\"M515.48,-109.28C524.12,-107.84 532.45,-106.45 540.04,-105.18\"/>\n<polygon fill=\"black\" stroke=\"black\" points=\"540.51,-108.65 549.8,-103.55 539.36,-101.74 540.51,-108.65\"/>\n</g>\n<!-- 1484402472608* -->\n<g id=\"node13\" class=\"node\">\n<title>1484402472608*</title>\n<ellipse fill=\"none\" stroke=\"black\" cx=\"251\" cy=\"-126\" rx=\"27\" ry=\"18\"/>\n<text text-anchor=\"middle\" x=\"251\" y=\"-122.3\" font-family=\"Times New Roman,serif\" font-size=\"14.00\">*</text>\n</g>\n<!-- 1484402472608*&#45;&gt;1484402472608 -->\n<g id=\"edge5\" class=\"edge\">\n<title>1484402472608*&#45;&gt;1484402472608</title>\n<path fill=\"none\" stroke=\"black\" d=\"M278.31,-126C285.41,-126 293.56,-126 302.27,-126\"/>\n<polygon fill=\"black\" stroke=\"black\" points=\"302.04,-129.5 312.04,-126 302.04,-122.5 302.04,-129.5\"/>\n</g>\n<!-- 1484402470592 -->\n<g id=\"node14\" class=\"node\">\n<title>1484402470592</title>\n<polygon fill=\"none\" stroke=\"black\" points=\"184,-90 4,-90 4,-54 184,-54 184,-90\"/>\n<text text-anchor=\"middle\" x=\"94\" y=\"-68.3\" font-family=\"Times New Roman,serif\" font-size=\"14.00\">x2 | data 0.0000 | grad 0.5000</text>\n</g>\n<!-- 1484402472800* -->\n<g id=\"node23\" class=\"node\">\n<title>1484402472800*</title>\n<ellipse fill=\"none\" stroke=\"black\" cx=\"251\" cy=\"-72\" rx=\"27\" ry=\"18\"/>\n<text text-anchor=\"middle\" x=\"251\" y=\"-68.3\" font-family=\"Times New Roman,serif\" font-size=\"14.00\">*</text>\n</g>\n<!-- 1484402470592&#45;&gt;1484402472800* -->\n<g id=\"edge23\" class=\"edge\">\n<title>1484402470592&#45;&gt;1484402472800*</title>\n<path fill=\"none\" stroke=\"black\" d=\"M184.27,-72C194.17,-72 203.81,-72 212.51,-72\"/>\n<polygon fill=\"black\" stroke=\"black\" points=\"212.24,-75.5 222.24,-72 212.24,-68.5 212.24,-75.5\"/>\n</g>\n<!-- 1484402472176 -->\n<g id=\"node15\" class=\"node\">\n<title>1484402472176</title>\n<polygon fill=\"none\" stroke=\"black\" points=\"188,-198 0,-198 0,-162 188,-162 188,-198\"/>\n<text text-anchor=\"middle\" x=\"94\" y=\"-176.3\" font-family=\"Times New Roman,serif\" font-size=\"14.00\">w1 | data &#45;3.0000 | grad 1.0000</text>\n</g>\n<!-- 1484402472176&#45;&gt;1484402472608* -->\n<g id=\"edge19\" class=\"edge\">\n<title>1484402472176&#45;&gt;1484402472608*</title>\n<path fill=\"none\" stroke=\"black\" d=\"M162.38,-161.55C171.06,-158.85 179.78,-155.97 188,-153 197.87,-149.44 208.4,-145.07 217.93,-140.9\"/>\n<polygon fill=\"black\" stroke=\"black\" points=\"219.1,-144.21 226.8,-136.94 216.24,-137.82 219.1,-144.21\"/>\n</g>\n<!-- 1484402470640 -->\n<g id=\"node16\" class=\"node\">\n<title>1484402470640</title>\n<polygon fill=\"none\" stroke=\"black\" points=\"186.5,-144 1.5,-144 1.5,-108 186.5,-108 186.5,-144\"/>\n<text text-anchor=\"middle\" x=\"94\" y=\"-122.3\" font-family=\"Times New Roman,serif\" font-size=\"14.00\">x1 | data 2.0000 | grad &#45;1.5000</text>\n</g>\n<!-- 1484402470640&#45;&gt;1484402472608* -->\n<g id=\"edge20\" class=\"edge\">\n<title>1484402470640&#45;&gt;1484402472608*</title>\n<path fill=\"none\" stroke=\"black\" d=\"M186.96,-126C195.87,-126 204.53,-126 212.42,-126\"/>\n<polygon fill=\"black\" stroke=\"black\" points=\"212.24,-129.5 222.24,-126 212.24,-122.5 212.24,-129.5\"/>\n</g>\n<!-- 1484402470688 -->\n<g id=\"node17\" class=\"node\">\n<title>1484402470688</title>\n<polygon fill=\"none\" stroke=\"black\" points=\"185.5,-36 2.5,-36 2.5,0 185.5,0 185.5,-36\"/>\n<text text-anchor=\"middle\" x=\"94\" y=\"-14.3\" font-family=\"Times New Roman,serif\" font-size=\"14.00\">w2 | data 1.0000 | grad 0.0000</text>\n</g>\n<!-- 1484402470688&#45;&gt;1484402472800* -->\n<g id=\"edge22\" class=\"edge\">\n<title>1484402470688&#45;&gt;1484402472800*</title>\n<path fill=\"none\" stroke=\"black\" d=\"M162.38,-36.45C171.06,-39.15 179.78,-42.03 188,-45 197.87,-48.56 208.4,-52.93 217.93,-57.1\"/>\n<polygon fill=\"black\" stroke=\"black\" points=\"216.24,-60.18 226.8,-61.06 219.1,-53.79 216.24,-60.18\"/>\n</g>\n<!-- 1484402465072 -->\n<g id=\"node18\" class=\"node\">\n<title>1484402465072</title>\n<polygon fill=\"none\" stroke=\"black\" points=\"872,-117 641,-117 641,-81 872,-81 872,-117\"/>\n<text text-anchor=\"middle\" x=\"756.5\" y=\"-95.3\" font-family=\"Times New Roman,serif\" font-size=\"14.00\">x1w1x2w2 | data &#45;6.0000 | grad 0.5000</text>\n</g>\n<!-- 1484402465072&#45;&gt;1484402463056+ -->\n<g id=\"edge17\" class=\"edge\">\n<title>1484402465072&#45;&gt;1484402463056+</title>\n<path fill=\"none\" stroke=\"black\" d=\"M872.27,-116.56C881,-117.89 889.34,-119.17 896.92,-120.33\"/>\n<polygon fill=\"black\" stroke=\"black\" points=\"896.23,-123.76 906.64,-121.82 897.29,-116.84 896.23,-123.76\"/>\n</g>\n<!-- 1484402465072+&#45;&gt;1484402465072 -->\n<g id=\"edge6\" class=\"edge\">\n<title>1484402465072+&#45;&gt;1484402465072</title>\n<path fill=\"none\" stroke=\"black\" d=\"M605.42,-99C612.46,-99 620.54,-99 629.23,-99\"/>\n<polygon fill=\"black\" stroke=\"black\" points=\"629.02,-102.5 639.02,-99 629.02,-95.5 629.02,-102.5\"/>\n</g>\n<!-- 1484402463056 -->\n<g id=\"node20\" class=\"node\">\n<title>1484402463056</title>\n<polygon fill=\"none\" stroke=\"black\" points=\"1171,-144 998,-144 998,-108 1171,-108 1171,-144\"/>\n<text text-anchor=\"middle\" x=\"1084.5\" y=\"-122.3\" font-family=\"Times New Roman,serif\" font-size=\"14.00\">n | data 0.8814 | grad 0.5000</text>\n</g>\n<!-- 1484402463056&#45;&gt;1484402462864* -->\n<g id=\"edge16\" class=\"edge\">\n<title>1484402463056&#45;&gt;1484402462864*</title>\n<path fill=\"none\" stroke=\"black\" d=\"M1171.3,-141.71C1180.06,-143.31 1188.58,-144.87 1196.35,-146.29\"/>\n<polygon fill=\"black\" stroke=\"black\" points=\"1195.56,-149.71 1206.03,-148.06 1196.82,-142.82 1195.56,-149.71\"/>\n</g>\n<!-- 1484402463056+&#45;&gt;1484402463056 -->\n<g id=\"edge7\" class=\"edge\">\n<title>1484402463056+&#45;&gt;1484402463056</title>\n<path fill=\"none\" stroke=\"black\" d=\"M962.37,-126C969.46,-126 977.56,-126 986.13,-126\"/>\n<polygon fill=\"black\" stroke=\"black\" points=\"986.12,-129.5 996.12,-126 986.12,-122.5 986.12,-129.5\"/>\n</g>\n<!-- 1484402472800 -->\n<g id=\"node22\" class=\"node\">\n<title>1484402472800</title>\n<polygon fill=\"none\" stroke=\"black\" points=\"513,-90 316,-90 316,-54 513,-54 513,-90\"/>\n<text text-anchor=\"middle\" x=\"414.5\" y=\"-68.3\" font-family=\"Times New Roman,serif\" font-size=\"14.00\">x2w2 | data 0.0000 | grad 0.5000</text>\n</g>\n<!-- 1484402472800&#45;&gt;1484402465072+ -->\n<g id=\"edge21\" class=\"edge\">\n<title>1484402472800&#45;&gt;1484402465072+</title>\n<path fill=\"none\" stroke=\"black\" d=\"M513.17,-88.33C522.74,-89.93 531.98,-91.47 540.32,-92.87\"/>\n<polygon fill=\"black\" stroke=\"black\" points=\"539.51,-96.28 549.95,-94.48 540.66,-89.38 539.51,-96.28\"/>\n</g>\n<!-- 1484402472800*&#45;&gt;1484402472800 -->\n<g id=\"edge8\" class=\"edge\">\n<title>1484402472800*&#45;&gt;1484402472800</title>\n<path fill=\"none\" stroke=\"black\" d=\"M278.31,-72C285.95,-72 294.82,-72 304.28,-72\"/>\n<polygon fill=\"black\" stroke=\"black\" points=\"304.11,-75.5 314.11,-72 304.11,-68.5 304.11,-75.5\"/>\n</g>\n<!-- 1484402467184 -->\n<g id=\"node24\" class=\"node\">\n<title>1484402467184</title>\n<polygon fill=\"none\" stroke=\"black\" points=\"1759,-171 1592,-171 1592,-135 1759,-135 1759,-171\"/>\n<text text-anchor=\"middle\" x=\"1675.5\" y=\"-149.3\" font-family=\"Times New Roman,serif\" font-size=\"14.00\"> | data 5.8284 | grad 0.0429</text>\n</g>\n<!-- 1484402467184&#45;&gt;1484393035280+ -->\n<g id=\"edge13\" class=\"edge\">\n<title>1484402467184&#45;&gt;1484393035280+</title>\n<path fill=\"none\" stroke=\"black\" d=\"M1759.17,-168.24C1768.61,-169.98 1777.84,-171.68 1786.21,-173.22\"/>\n<polygon fill=\"black\" stroke=\"black\" points=\"1785.46,-176.64 1795.93,-175.01 1786.73,-169.76 1785.46,-176.64\"/>\n</g>\n<!-- 1484402467184&#45;&gt;1484393034368+ -->\n<g id=\"edge28\" class=\"edge\">\n<title>1484402467184&#45;&gt;1484393034368+</title>\n<path fill=\"none\" stroke=\"black\" d=\"M1759.17,-137.76C1768.61,-136.02 1777.84,-134.32 1786.21,-132.78\"/>\n<polygon fill=\"black\" stroke=\"black\" points=\"1786.73,-136.24 1795.93,-130.99 1785.46,-129.36 1786.73,-136.24\"/>\n</g>\n<!-- 1484402467184exp&#45;&gt;1484402467184 -->\n<g id=\"edge9\" class=\"edge\">\n<title>1484402467184exp&#45;&gt;1484402467184</title>\n<path fill=\"none\" stroke=\"black\" d=\"M1554.19,-153C1561.94,-153 1570.91,-153 1580.38,-153\"/>\n<polygon fill=\"black\" stroke=\"black\" points=\"1580.19,-156.5 1590.19,-153 1580.19,-149.5 1580.19,-156.5\"/>\n</g>\n<!-- 1484393034080 -->\n<g id=\"node26\" class=\"node\">\n<title>1484393034080</title>\n<polygon fill=\"none\" stroke=\"black\" points=\"1761,-117 1590,-117 1590,-81 1761,-81 1761,-117\"/>\n<text text-anchor=\"middle\" x=\"1675.5\" y=\"-95.3\" font-family=\"Times New Roman,serif\" font-size=\"14.00\"> | data 1.0000 | grad &#45;0.1036</text>\n</g>\n<!-- 1484393034080&#45;&gt;1484393034368+ -->\n<g id=\"edge27\" class=\"edge\">\n<title>1484393034080&#45;&gt;1484393034368+</title>\n<path fill=\"none\" stroke=\"black\" d=\"M1761.3,-114.63C1770.04,-116.24 1778.55,-117.81 1786.33,-119.24\"/>\n<polygon fill=\"black\" stroke=\"black\" points=\"1785.53,-122.65 1796,-121.02 1786.8,-115.77 1785.53,-122.65\"/>\n</g>\n<!-- 1484402423744 -->\n<g id=\"node27\" class=\"node\">\n<title>1484402423744</title>\n<polygon fill=\"none\" stroke=\"black\" points=\"2464,-148 2297,-148 2297,-112 2464,-112 2464,-148\"/>\n<text text-anchor=\"middle\" x=\"2380.5\" y=\"-126.3\" font-family=\"Times New Roman,serif\" font-size=\"14.00\"> | data 0.1464 | grad 4.8284</text>\n</g>\n<!-- 1484402423744&#45;&gt;1484402421344* -->\n<g id=\"edge25\" class=\"edge\">\n<title>1484402423744&#45;&gt;1484402421344*</title>\n<path fill=\"none\" stroke=\"black\" d=\"M2464.3,-143.18C2473.01,-144.57 2481.51,-145.92 2489.28,-147.16\"/>\n<polygon fill=\"black\" stroke=\"black\" points=\"2488.53,-150.58 2498.95,-148.69 2489.63,-143.67 2488.53,-150.58\"/>\n</g>\n<!-- 1484402423744**&#45;1&#45;&gt;1484402423744 -->\n<g id=\"edge10\" class=\"edge\">\n<title>1484402423744**&#45;1&#45;&gt;1484402423744</title>\n<path fill=\"none\" stroke=\"black\" d=\"M2204.78,-126.52C2225.54,-126.94 2255.84,-127.54 2285.4,-128.13\"/>\n<polygon fill=\"black\" stroke=\"black\" points=\"2285.09,-131.62 2295.16,-128.32 2285.23,-124.62 2285.09,-131.62\"/>\n</g>\n</g>\n</svg>\n",
      "text/plain": [
       "<graphviz.graphs.Digraph at 0x1599d4821a0>"
      ]
     },
     "execution_count": 13,
     "metadata": {},
     "output_type": "execute_result"
    }
   ],
   "source": [
    "# input x1, x2\n",
    "x1 = Value(2.0, label='x1')\n",
    "x2 = Value(0.0, label='x2')\n",
    "\n",
    "# weight w1, w2\n",
    "w1 = Value(-3.0, label='w1')\n",
    "w2 = Value(1.0, label='w2')\n",
    "\n",
    "# bias of the neuron\n",
    "b = Value(6.881373587019432, label='b')\n",
    "\n",
    "# x1*w1 + x2*w2 + b\n",
    "x1w1 = x1 * w1; x1w1.label = 'x1w1'\n",
    "x2w2 = x2 * w2; x2w2.label = 'x2w2'\n",
    "x1w1x2w2 = x1w1 + x2w2; x1w1x2w2.label = 'x1w1x2w2'\n",
    "n = x1w1x2w2 + b; n.label = 'n'\n",
    "#------\n",
    "\n",
    "e = (2*n).exp()\n",
    "o = (e - 1) / ( e + 1)\n",
    "\n",
    "#--------\n",
    "\n",
    "o.label = 'o'\n",
    "o.backward()\n",
    "draw_dot(o)"
   ]
  },
  {
   "cell_type": "code",
   "execution_count": 14,
   "metadata": {},
   "outputs": [],
   "source": [
    "import torch\n"
   ]
  },
  {
   "cell_type": "code",
   "execution_count": 15,
   "metadata": {},
   "outputs": [
    {
     "name": "stdout",
     "output_type": "stream",
     "text": [
      "0.7071066904050358\n",
      "----\n",
      "x2 0.5000001283844369\n",
      "w2 0.0\n",
      "x1 -1.5000003851533106\n",
      "w1 1.0000002567688737\n"
     ]
    }
   ],
   "source": [
    "x1 = torch.Tensor([2.0]).double() ; x1.requires_grad = True\n",
    "x2 = torch.Tensor([0.0]).double() ; x2.requires_grad = True\n",
    "w1 = torch.Tensor([-3.0]).double() ; w1.requires_grad = True\n",
    "w2 = torch.Tensor([1.0]).double() ; w2.requires_grad = True\n",
    "b = torch.Tensor([6.881373587019432]).double() ; b.requires_grad = True\n",
    "n = x1*w1 + x2*w2 + b\n",
    "o = torch.tanh(n)\n",
    "\n",
    "print(o.data.item())\n",
    "o.backward()\n",
    "\n",
    "print('----')\n",
    "print('x2', x2.grad.item())\n",
    "print('w2', w2.grad.item())\n",
    "print('x1', x1.grad.item())\n",
    "print('w1', w1.grad.item())\n"
   ]
  },
  {
   "cell_type": "code",
   "execution_count": 34,
   "metadata": {},
   "outputs": [],
   "source": [
    "import random\n",
    "# nin는 인풋 갯수와 동일\n",
    "class Neuron:\n",
    "    \n",
    "    def __init__(self, nin):\n",
    "        self.w = [Value(random.uniform(-1,1)) for _ in range(nin)]\n",
    "        self.b = Value(random.uniform(-1,1))\n",
    "    \n",
    "    def __call__(self, x):\n",
    "        act = sum((wi * xi for wi, xi in zip(self.w, x)),self.b)\n",
    "        out = act.tanh()\n",
    "        return out\n",
    "    \n",
    "    def parameters(self):\n",
    "        return self.w + [self.b]\n",
    "    \n",
    "class Layer :\n",
    "    \n",
    "    def __init__(self, nin, nout):\n",
    "        self.nerons = [Neuron(nin) for _ in range(nout)]\n",
    "        \n",
    "    def __call__(self, x):\n",
    "        outs = [n(x) for n in self.nerons]\n",
    "        return outs[0] if len(outs) == 1 else outs\n",
    "    \n",
    "    def parameters(self):\n",
    "        return [p for neuron in self.nerons for p in neuron.parameters()]\n",
    "            \n",
    "\n",
    "class MLP:\n",
    "    \n",
    "    def __init__(self, nin, nouts):\n",
    "        sz =[nin] + nouts\n",
    "        self.layers = [Layer(sz[i], sz[i+1]) for i in range(len(nouts))]\n",
    "    def __call__(self, x):\n",
    "        for layer in self.layers:\n",
    "            x = layer(x)\n",
    "        return x\n",
    "    def parameters(self):\n",
    "        return [p for layer in self.layers for p in layer.parameters()]\n"
   ]
  },
  {
   "cell_type": "code",
   "execution_count": 35,
   "metadata": {},
   "outputs": [
    {
     "data": {
      "text/plain": [
       "Value(data=0.6319265319766644)"
      ]
     },
     "execution_count": 35,
     "metadata": {},
     "output_type": "execute_result"
    }
   ],
   "source": [
    "x = [2.0, 3.0, -1.0]\n",
    "n =  MLP( 3, [4,4,1])\n",
    "r = n(x)\n",
    "r"
   ]
  },
  {
   "cell_type": "code",
   "execution_count": 37,
   "metadata": {},
   "outputs": [
    {
     "data": {
      "text/plain": [
       "41"
      ]
     },
     "execution_count": 37,
     "metadata": {},
     "output_type": "execute_result"
    }
   ],
   "source": [
    "len(n.parameters())"
   ]
  },
  {
   "cell_type": "code",
   "execution_count": 38,
   "metadata": {},
   "outputs": [
    {
     "data": {
      "text/plain": [
       "[Value(data=0.6319265319766644),\n",
       " Value(data=0.5226684526864523),\n",
       " Value(data=0.7057227603947205),\n",
       " Value(data=0.454163921369754)]"
      ]
     },
     "execution_count": 38,
     "metadata": {},
     "output_type": "execute_result"
    }
   ],
   "source": [
    "xs = [\n",
    "    [2.0, 3.0, -1.0],\n",
    "    [3.0, -1.0, 0.5],\n",
    "    [0.5, 1.0, 1.0],\n",
    "    [1.0, 1.0,-1.0]\n",
    "]\n",
    "ys = [1.0, -1.0, -1.0, 1.0]"
   ]
  },
  {
   "cell_type": "code",
   "execution_count": 39,
   "metadata": {},
   "outputs": [
    {
     "data": {
      "text/plain": [
       "Value(data=5.66142445473231)"
      ]
     },
     "execution_count": 39,
     "metadata": {},
     "output_type": "execute_result"
    }
   ],
   "source": [
    "loss = sum([(yout-ygt)**2 for ygt, yout in zip(ys, ypred)])\n",
    "loss"
   ]
  },
  {
   "cell_type": "code",
   "execution_count": 42,
   "metadata": {},
   "outputs": [],
   "source": [
    "loss.backward()"
   ]
  },
  {
   "cell_type": "code",
   "execution_count": 43,
   "metadata": {},
   "outputs": [
    {
     "data": {
      "text/plain": [
       "0.1316450790919253"
      ]
     },
     "execution_count": 43,
     "metadata": {},
     "output_type": "execute_result"
    }
   ],
   "source": [
    "n.layers[0].nerons[0].w[0].grad"
   ]
  },
  {
   "cell_type": "code",
   "execution_count": 44,
   "metadata": {},
   "outputs": [],
   "source": [
    "for p in n.parameters():\n",
    "    p.data += -0.01 *  p.grad"
   ]
  },
  {
   "cell_type": "code",
   "execution_count": 46,
   "metadata": {},
   "outputs": [
    {
     "data": {
      "text/plain": [
       "0.1316450790919253"
      ]
     },
     "execution_count": 46,
     "metadata": {},
     "output_type": "execute_result"
    }
   ],
   "source": [
    "n.layers[0].nerons[0].w[0].grad"
   ]
  },
  {
   "cell_type": "code",
   "execution_count": null,
   "metadata": {},
   "outputs": [],
   "source": []
  }
 ],
 "metadata": {
  "kernelspec": {
   "display_name": "monai",
   "language": "python",
   "name": "python3"
  },
  "language_info": {
   "codemirror_mode": {
    "name": "ipython",
    "version": 3
   },
   "file_extension": ".py",
   "mimetype": "text/x-python",
   "name": "python",
   "nbconvert_exporter": "python",
   "pygments_lexer": "ipython3",
   "version": "3.10.6"
  },
  "orig_nbformat": 4,
  "vscode": {
   "interpreter": {
    "hash": "e21402f43875f5569f3df54104f19551925d990f816aafe3db5bccc29e096f43"
   }
  }
 },
 "nbformat": 4,
 "nbformat_minor": 2
}
